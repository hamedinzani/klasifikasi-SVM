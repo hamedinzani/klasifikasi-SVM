{
 "cells": [
  {
   "cell_type": "code",
   "execution_count": 1,
   "metadata": {},
   "outputs": [],
   "source": [
    "import pandas as pd\n",
    "import matplotlib.pyplot as plt\n",
    "import seaborn as sns\n",
    "from sklearn.model_selection import train_test_split\n",
    "from sklearn.preprocessing import LabelEncoder\n",
    "from sklearn.metrics import confusion_matrix\n",
    "from sklearn.metrics import classification_report\n",
    "from sklearn import svm\n",
    "from sklearn.svm import LinearSVC\n",
    "from sklearn.model_selection import cross_val_score\n",
    "from sklearn.metrics import roc_auc_score\n",
    "from sklearn.metrics import roc_curve, auc\n",
    "import numpy as np\n",
    "\n",
    "\n"
   ]
  },
  {
   "cell_type": "code",
   "execution_count": 2,
   "metadata": {},
   "outputs": [],
   "source": [
    "#Membaca dataset dari file ke pandas \n",
    "df = pd.read_csv('datasetnilaiakademik.csv', header=0)\n"
   ]
  },
  {
   "cell_type": "code",
   "execution_count": 3,
   "metadata": {},
   "outputs": [
    {
     "data": {
      "text/html": [
       "<div>\n",
       "<style scoped>\n",
       "    .dataframe tbody tr th:only-of-type {\n",
       "        vertical-align: middle;\n",
       "    }\n",
       "\n",
       "    .dataframe tbody tr th {\n",
       "        vertical-align: top;\n",
       "    }\n",
       "\n",
       "    .dataframe thead th {\n",
       "        text-align: right;\n",
       "    }\n",
       "</style>\n",
       "<table border=\"1\" class=\"dataframe\">\n",
       "  <thead>\n",
       "    <tr style=\"text-align: right;\">\n",
       "      <th></th>\n",
       "      <th>inggrisa</th>\n",
       "      <th>alproa</th>\n",
       "      <th>aljabarlinear</th>\n",
       "      <th>fisikadasar</th>\n",
       "      <th>kalkulusa</th>\n",
       "      <th>aptia</th>\n",
       "      <th>inggrisb</th>\n",
       "      <th>alprob</th>\n",
       "      <th>kalkulusb</th>\n",
       "      <th>aptib</th>\n",
       "      <th>...</th>\n",
       "      <th>sdprak</th>\n",
       "      <th>jarkom</th>\n",
       "      <th>jarkomprak</th>\n",
       "      <th>matdis</th>\n",
       "      <th>mpa</th>\n",
       "      <th>sbdl</th>\n",
       "      <th>sbdlprak</th>\n",
       "      <th>sc</th>\n",
       "      <th>tbo</th>\n",
       "      <th>konsentrasi</th>\n",
       "    </tr>\n",
       "  </thead>\n",
       "  <tbody>\n",
       "    <tr>\n",
       "      <th>0</th>\n",
       "      <td>b</td>\n",
       "      <td>b</td>\n",
       "      <td>b</td>\n",
       "      <td>a</td>\n",
       "      <td>b</td>\n",
       "      <td>a</td>\n",
       "      <td>b</td>\n",
       "      <td>a</td>\n",
       "      <td>b</td>\n",
       "      <td>b</td>\n",
       "      <td>...</td>\n",
       "      <td>c</td>\n",
       "      <td>b</td>\n",
       "      <td>a</td>\n",
       "      <td>b</td>\n",
       "      <td>b</td>\n",
       "      <td>b</td>\n",
       "      <td>a</td>\n",
       "      <td>c</td>\n",
       "      <td>a</td>\n",
       "      <td>0</td>\n",
       "    </tr>\n",
       "    <tr>\n",
       "      <th>1</th>\n",
       "      <td>b</td>\n",
       "      <td>b</td>\n",
       "      <td>c</td>\n",
       "      <td>b</td>\n",
       "      <td>c</td>\n",
       "      <td>a</td>\n",
       "      <td>b</td>\n",
       "      <td>a</td>\n",
       "      <td>b</td>\n",
       "      <td>b</td>\n",
       "      <td>...</td>\n",
       "      <td>b</td>\n",
       "      <td>b</td>\n",
       "      <td>b</td>\n",
       "      <td>c</td>\n",
       "      <td>c</td>\n",
       "      <td>b</td>\n",
       "      <td>b</td>\n",
       "      <td>c</td>\n",
       "      <td>b</td>\n",
       "      <td>0</td>\n",
       "    </tr>\n",
       "    <tr>\n",
       "      <th>2</th>\n",
       "      <td>b</td>\n",
       "      <td>b</td>\n",
       "      <td>b</td>\n",
       "      <td>b</td>\n",
       "      <td>c</td>\n",
       "      <td>a</td>\n",
       "      <td>b</td>\n",
       "      <td>c</td>\n",
       "      <td>c</td>\n",
       "      <td>a</td>\n",
       "      <td>...</td>\n",
       "      <td>b</td>\n",
       "      <td>c</td>\n",
       "      <td>c</td>\n",
       "      <td>b</td>\n",
       "      <td>d</td>\n",
       "      <td>d</td>\n",
       "      <td>c</td>\n",
       "      <td>c</td>\n",
       "      <td>b</td>\n",
       "      <td>0</td>\n",
       "    </tr>\n",
       "    <tr>\n",
       "      <th>3</th>\n",
       "      <td>b</td>\n",
       "      <td>b</td>\n",
       "      <td>a</td>\n",
       "      <td>a</td>\n",
       "      <td>a</td>\n",
       "      <td>a</td>\n",
       "      <td>b</td>\n",
       "      <td>a</td>\n",
       "      <td>a</td>\n",
       "      <td>b</td>\n",
       "      <td>...</td>\n",
       "      <td>b</td>\n",
       "      <td>b</td>\n",
       "      <td>a</td>\n",
       "      <td>b</td>\n",
       "      <td>b</td>\n",
       "      <td>a</td>\n",
       "      <td>a</td>\n",
       "      <td>b</td>\n",
       "      <td>a</td>\n",
       "      <td>1</td>\n",
       "    </tr>\n",
       "    <tr>\n",
       "      <th>4</th>\n",
       "      <td>c</td>\n",
       "      <td>b</td>\n",
       "      <td>c</td>\n",
       "      <td>c</td>\n",
       "      <td>d</td>\n",
       "      <td>a</td>\n",
       "      <td>b</td>\n",
       "      <td>c</td>\n",
       "      <td>b</td>\n",
       "      <td>c</td>\n",
       "      <td>...</td>\n",
       "      <td>c</td>\n",
       "      <td>c</td>\n",
       "      <td>b</td>\n",
       "      <td>b</td>\n",
       "      <td>b</td>\n",
       "      <td>c</td>\n",
       "      <td>b</td>\n",
       "      <td>b</td>\n",
       "      <td>a</td>\n",
       "      <td>2</td>\n",
       "    </tr>\n",
       "  </tbody>\n",
       "</table>\n",
       "<p>5 rows × 30 columns</p>\n",
       "</div>"
      ],
      "text/plain": [
       "  inggrisa alproa aljabarlinear fisikadasar kalkulusa aptia inggrisb alprob  \\\n",
       "0        b      b             b           a         b     a        b      a   \n",
       "1        b      b             c           b         c     a        b      a   \n",
       "2        b      b             b           b         c     a        b      c   \n",
       "3        b      b             a           a         a     a        b      a   \n",
       "4        c      b             c           c         d     a        b      c   \n",
       "\n",
       "  kalkulusb aptib  ... sdprak jarkom jarkomprak matdis mpa sbdl sbdlprak sc  \\\n",
       "0         b     b  ...      c      b          a      b   b    b        a  c   \n",
       "1         b     b  ...      b      b          b      c   c    b        b  c   \n",
       "2         c     a  ...      b      c          c      b   d    d        c  c   \n",
       "3         a     b  ...      b      b          a      b   b    a        a  b   \n",
       "4         b     c  ...      c      c          b      b   b    c        b  b   \n",
       "\n",
       "  tbo konsentrasi  \n",
       "0   a           0  \n",
       "1   b           0  \n",
       "2   b           0  \n",
       "3   a           1  \n",
       "4   a           2  \n",
       "\n",
       "[5 rows x 30 columns]"
      ]
     },
     "execution_count": 3,
     "metadata": {},
     "output_type": "execute_result"
    }
   ],
   "source": [
    "df.head()"
   ]
  },
  {
   "cell_type": "code",
   "execution_count": 4,
   "metadata": {},
   "outputs": [],
   "source": [
    "df['inggrisa'] = df['inggrisa'].str.lower()\n",
    "df['alproa'] = df['alproa'].str.lower()\n",
    "df['aljabarlinear'] = df['aljabarlinear'].str.lower()\n",
    "df['fisikadasar'] = df['fisikadasar'].str.lower()\n",
    "df['kalkulusa'] = df['kalkulusa'].str.lower()\n",
    "df['aptia'] = df['aptia'].str.lower()\n",
    "df['inggrisb'] = df['inggrisb'].str.lower()\n",
    "df['alprob'] = df['alprob'].str.lower()\n",
    "df['kalkulusb'] = df['kalkulusb'].str.lower()\n",
    "df['aptib'] = df['aptib'].str.lower()\n",
    "df['statistika'] = df['statistika'].str.lower()\n",
    "df['pemdas'] = df['pemdas'].str.lower()\n",
    "df['pemdasprak'] = df['pemdasprak'].str.lower()\n",
    "df['pemweb'] = df['pemweb'].str.lower()\n",
    "df['pemwebprak'] = df['pemwebprak'].str.lower()\n",
    "df['pbo'] = df['pbo'].str.lower()\n",
    "df['pboprak'] = df['pboprak'].str.lower()\n",
    "df['sbd'] = df['sbd'].str.lower()\n",
    "df['sbdprak'] = df['sbdprak'].str.lower()\n",
    "df['sd'] = df['sd'].str.lower()\n",
    "df['sdprak'] = df['sdprak'].str.lower()\n",
    "df['jarkom'] = df['jarkom'].str.lower()\n",
    "df['jarkomprak'] = df['jarkomprak'].str.lower()\n",
    "df['matdis'] = df['matdis'].str.lower()\n",
    "df['mpa'] = df['mpa'].str.lower()\n",
    "df['sbdl'] = df['sbdl'].str.lower()\n",
    "df['sbdlprak'] = df['sbdlprak'].str.lower()\n",
    "df['sc'] = df['sc'].str.lower()\n",
    "df['tbo'] = df['tbo'].str.lower()\n"
   ]
  },
  {
   "cell_type": "code",
   "execution_count": 5,
   "metadata": {},
   "outputs": [
    {
     "data": {
      "text/plain": [
       "inggrisa         0\n",
       "alproa           0\n",
       "aljabarlinear    0\n",
       "fisikadasar      0\n",
       "kalkulusa        0\n",
       "aptia            0\n",
       "inggrisb         0\n",
       "alprob           1\n",
       "kalkulusb        0\n",
       "aptib            0\n",
       "statistika       0\n",
       "pemdas           1\n",
       "pemdasprak       2\n",
       "pemweb           3\n",
       "pemwebprak       3\n",
       "pbo              1\n",
       "pboprak          6\n",
       "sbd              1\n",
       "sbdprak          2\n",
       "sd               1\n",
       "sdprak           9\n",
       "jarkom           1\n",
       "jarkomprak       1\n",
       "matdis           4\n",
       "mpa              3\n",
       "sbdl             3\n",
       "sbdlprak         5\n",
       "sc               3\n",
       "tbo              4\n",
       "konsentrasi      0\n",
       "dtype: int64"
      ]
     },
     "execution_count": 5,
     "metadata": {},
     "output_type": "execute_result"
    }
   ],
   "source": [
    "df.isna().sum()"
   ]
  },
  {
   "cell_type": "code",
   "execution_count": null,
   "metadata": {},
   "outputs": [],
   "source": []
  },
  {
   "cell_type": "code",
   "execution_count": 6,
   "metadata": {},
   "outputs": [],
   "source": [
    "# mengisi nilai kosong\n",
    "df['alprob'] = df['alprob'].fillna(\"c\")\n",
    "df['pemdas'] = df['pemdas'].fillna(\"b\") \n",
    "df['pemdasprak'] = df['pemdasprak'].fillna(\"b\")\n",
    "df['pemweb'] = df['pemweb'].fillna(\"b\")\n",
    "df['pemwebprak'] = df['pemwebprak'].fillna(\"b\")\n",
    "df['pbo'] = df['pbo'].fillna(\"b\")\n",
    "df['pboprak'] = df['pboprak'].fillna(\"b\")\n",
    "df['sbd'] = df['sbd'].fillna(\"b\")\n",
    "df['sbdprak'] = df['sbdprak'].fillna(\"b\")\n",
    "df['sd'] = df['sd'].fillna(\"b\")\n",
    "df['sdprak'] = df['sdprak'].fillna(\"b\")\n",
    "df['jarkom'] = df['jarkom'].fillna(\"b\")\n",
    "df['jarkomprak'] = df['jarkomprak'].fillna(\"b\")\n",
    "df['matdis'] = df['matdis'].fillna(\"b\")\n",
    "df['mpa'] = df['mpa'].fillna(\"b\")\n",
    "df['sbdl'] = df['sbdl'].fillna(\"b\")\n",
    "df['sbdlprak'] = df['sbdlprak'].fillna(\"b\")\n",
    "df['sc'] = df['sc'].fillna(\"b\")\n",
    "df['tbo'] = df['tbo'].fillna(\"c\")\n"
   ]
  },
  {
   "cell_type": "code",
   "execution_count": 7,
   "metadata": {},
   "outputs": [
    {
     "data": {
      "text/plain": [
       "inggrisa         0\n",
       "alproa           0\n",
       "aljabarlinear    0\n",
       "fisikadasar      0\n",
       "kalkulusa        0\n",
       "aptia            0\n",
       "inggrisb         0\n",
       "alprob           0\n",
       "kalkulusb        0\n",
       "aptib            0\n",
       "statistika       0\n",
       "pemdas           0\n",
       "pemdasprak       0\n",
       "pemweb           0\n",
       "pemwebprak       0\n",
       "pbo              0\n",
       "pboprak          0\n",
       "sbd              0\n",
       "sbdprak          0\n",
       "sd               0\n",
       "sdprak           0\n",
       "jarkom           0\n",
       "jarkomprak       0\n",
       "matdis           0\n",
       "mpa              0\n",
       "sbdl             0\n",
       "sbdlprak         0\n",
       "sc               0\n",
       "tbo              0\n",
       "konsentrasi      0\n",
       "dtype: int64"
      ]
     },
     "execution_count": 7,
     "metadata": {},
     "output_type": "execute_result"
    }
   ],
   "source": [
    "df.isna().sum()\n"
   ]
  },
  {
   "cell_type": "code",
   "execution_count": 8,
   "metadata": {},
   "outputs": [],
   "source": [
    "# creating instance of labelencoder (mengencode string menjadi numerik)\n",
    "labelencoder = LabelEncoder()"
   ]
  },
  {
   "cell_type": "code",
   "execution_count": 9,
   "metadata": {},
   "outputs": [],
   "source": [
    "# Assigning numerical values and storing in another column\n",
    "df['inggrisa'] = labelencoder.fit_transform(df['inggrisa'])\n",
    "df['alproa'] = labelencoder.fit_transform(df['alproa'])\n",
    "df['aljabarlinear'] = labelencoder.fit_transform(df['aljabarlinear'])\n",
    "df['fisikadasar'] = labelencoder.fit_transform(df['fisikadasar'])\n",
    "df['kalkulusa'] = labelencoder.fit_transform(df['kalkulusa'])\n",
    "df['aptia'] = labelencoder.fit_transform(df['aptia'])\n",
    "df['inggrisb'] = labelencoder.fit_transform(df['inggrisb'])\n",
    "df['alprob'] = labelencoder.fit_transform(df['alprob'])\n",
    "df['kalkulusb'] = labelencoder.fit_transform(df['kalkulusb'])\n",
    "df['aptib'] = labelencoder.fit_transform(df['aptib'])\n",
    "df['statistika'] = labelencoder.fit_transform(df['statistika'])\n",
    "df['pemdas'] = labelencoder.fit_transform(df['pemdas'])\n",
    "df['pemdasprak'] = labelencoder.fit_transform(df['pemdasprak'])\n",
    "df['pemweb'] = labelencoder.fit_transform(df['pemweb'])\n",
    "df['pemwebprak'] = labelencoder.fit_transform(df['pemwebprak'])\n",
    "df['pbo'] = labelencoder.fit_transform(df['pbo'])\n",
    "df['pboprak'] = labelencoder.fit_transform(df['pboprak'])\n",
    "df['sbd'] = labelencoder.fit_transform(df['sbd'])\n",
    "df['sbdprak'] = labelencoder.fit_transform(df['sbdprak'])\n",
    "df['sd'] = labelencoder.fit_transform(df['sd'])\n",
    "df['sdprak'] = labelencoder.fit_transform(df['sdprak'])\n",
    "df['jarkom'] = labelencoder.fit_transform(df['jarkom'])\n",
    "df['jarkomprak'] = labelencoder.fit_transform(df['jarkomprak'])\n",
    "df['matdis'] = labelencoder.fit_transform(df['matdis'])\n",
    "df['mpa'] = labelencoder.fit_transform(df['mpa'])\n",
    "df['sbdl'] = labelencoder.fit_transform(df['sbdl'])\n",
    "df['sbdlprak'] = labelencoder.fit_transform(df['sbdlprak'])\n",
    "df['sc'] = labelencoder.fit_transform(df['sc'])\n",
    "df['tbo'] = labelencoder.fit_transform(df['tbo'])"
   ]
  },
  {
   "cell_type": "code",
   "execution_count": 10,
   "metadata": {},
   "outputs": [
    {
     "data": {
      "text/html": [
       "<div>\n",
       "<style scoped>\n",
       "    .dataframe tbody tr th:only-of-type {\n",
       "        vertical-align: middle;\n",
       "    }\n",
       "\n",
       "    .dataframe tbody tr th {\n",
       "        vertical-align: top;\n",
       "    }\n",
       "\n",
       "    .dataframe thead th {\n",
       "        text-align: right;\n",
       "    }\n",
       "</style>\n",
       "<table border=\"1\" class=\"dataframe\">\n",
       "  <thead>\n",
       "    <tr style=\"text-align: right;\">\n",
       "      <th></th>\n",
       "      <th>inggrisa</th>\n",
       "      <th>alproa</th>\n",
       "      <th>aljabarlinear</th>\n",
       "      <th>fisikadasar</th>\n",
       "      <th>kalkulusa</th>\n",
       "      <th>aptia</th>\n",
       "      <th>inggrisb</th>\n",
       "      <th>alprob</th>\n",
       "      <th>kalkulusb</th>\n",
       "      <th>aptib</th>\n",
       "      <th>...</th>\n",
       "      <th>sdprak</th>\n",
       "      <th>jarkom</th>\n",
       "      <th>jarkomprak</th>\n",
       "      <th>matdis</th>\n",
       "      <th>mpa</th>\n",
       "      <th>sbdl</th>\n",
       "      <th>sbdlprak</th>\n",
       "      <th>sc</th>\n",
       "      <th>tbo</th>\n",
       "      <th>konsentrasi</th>\n",
       "    </tr>\n",
       "  </thead>\n",
       "  <tbody>\n",
       "    <tr>\n",
       "      <th>0</th>\n",
       "      <td>1</td>\n",
       "      <td>1</td>\n",
       "      <td>1</td>\n",
       "      <td>0</td>\n",
       "      <td>1</td>\n",
       "      <td>0</td>\n",
       "      <td>1</td>\n",
       "      <td>0</td>\n",
       "      <td>1</td>\n",
       "      <td>1</td>\n",
       "      <td>...</td>\n",
       "      <td>2</td>\n",
       "      <td>1</td>\n",
       "      <td>0</td>\n",
       "      <td>1</td>\n",
       "      <td>1</td>\n",
       "      <td>1</td>\n",
       "      <td>0</td>\n",
       "      <td>2</td>\n",
       "      <td>0</td>\n",
       "      <td>0</td>\n",
       "    </tr>\n",
       "    <tr>\n",
       "      <th>1</th>\n",
       "      <td>1</td>\n",
       "      <td>1</td>\n",
       "      <td>2</td>\n",
       "      <td>1</td>\n",
       "      <td>2</td>\n",
       "      <td>0</td>\n",
       "      <td>1</td>\n",
       "      <td>0</td>\n",
       "      <td>1</td>\n",
       "      <td>1</td>\n",
       "      <td>...</td>\n",
       "      <td>1</td>\n",
       "      <td>1</td>\n",
       "      <td>1</td>\n",
       "      <td>2</td>\n",
       "      <td>2</td>\n",
       "      <td>1</td>\n",
       "      <td>1</td>\n",
       "      <td>2</td>\n",
       "      <td>1</td>\n",
       "      <td>0</td>\n",
       "    </tr>\n",
       "    <tr>\n",
       "      <th>2</th>\n",
       "      <td>1</td>\n",
       "      <td>1</td>\n",
       "      <td>1</td>\n",
       "      <td>1</td>\n",
       "      <td>2</td>\n",
       "      <td>0</td>\n",
       "      <td>1</td>\n",
       "      <td>2</td>\n",
       "      <td>2</td>\n",
       "      <td>0</td>\n",
       "      <td>...</td>\n",
       "      <td>1</td>\n",
       "      <td>2</td>\n",
       "      <td>2</td>\n",
       "      <td>1</td>\n",
       "      <td>3</td>\n",
       "      <td>3</td>\n",
       "      <td>2</td>\n",
       "      <td>2</td>\n",
       "      <td>1</td>\n",
       "      <td>0</td>\n",
       "    </tr>\n",
       "    <tr>\n",
       "      <th>3</th>\n",
       "      <td>1</td>\n",
       "      <td>1</td>\n",
       "      <td>0</td>\n",
       "      <td>0</td>\n",
       "      <td>0</td>\n",
       "      <td>0</td>\n",
       "      <td>1</td>\n",
       "      <td>0</td>\n",
       "      <td>0</td>\n",
       "      <td>1</td>\n",
       "      <td>...</td>\n",
       "      <td>1</td>\n",
       "      <td>1</td>\n",
       "      <td>0</td>\n",
       "      <td>1</td>\n",
       "      <td>1</td>\n",
       "      <td>0</td>\n",
       "      <td>0</td>\n",
       "      <td>1</td>\n",
       "      <td>0</td>\n",
       "      <td>1</td>\n",
       "    </tr>\n",
       "    <tr>\n",
       "      <th>4</th>\n",
       "      <td>2</td>\n",
       "      <td>1</td>\n",
       "      <td>2</td>\n",
       "      <td>2</td>\n",
       "      <td>3</td>\n",
       "      <td>0</td>\n",
       "      <td>1</td>\n",
       "      <td>2</td>\n",
       "      <td>1</td>\n",
       "      <td>2</td>\n",
       "      <td>...</td>\n",
       "      <td>2</td>\n",
       "      <td>2</td>\n",
       "      <td>1</td>\n",
       "      <td>1</td>\n",
       "      <td>1</td>\n",
       "      <td>2</td>\n",
       "      <td>1</td>\n",
       "      <td>1</td>\n",
       "      <td>0</td>\n",
       "      <td>2</td>\n",
       "    </tr>\n",
       "  </tbody>\n",
       "</table>\n",
       "<p>5 rows × 30 columns</p>\n",
       "</div>"
      ],
      "text/plain": [
       "   inggrisa  alproa  aljabarlinear  fisikadasar  kalkulusa  aptia  inggrisb  \\\n",
       "0         1       1              1            0          1      0         1   \n",
       "1         1       1              2            1          2      0         1   \n",
       "2         1       1              1            1          2      0         1   \n",
       "3         1       1              0            0          0      0         1   \n",
       "4         2       1              2            2          3      0         1   \n",
       "\n",
       "   alprob  kalkulusb  aptib  ...  sdprak  jarkom  jarkomprak  matdis  mpa  \\\n",
       "0       0          1      1  ...       2       1           0       1    1   \n",
       "1       0          1      1  ...       1       1           1       2    2   \n",
       "2       2          2      0  ...       1       2           2       1    3   \n",
       "3       0          0      1  ...       1       1           0       1    1   \n",
       "4       2          1      2  ...       2       2           1       1    1   \n",
       "\n",
       "   sbdl  sbdlprak  sc  tbo  konsentrasi  \n",
       "0     1         0   2    0            0  \n",
       "1     1         1   2    1            0  \n",
       "2     3         2   2    1            0  \n",
       "3     0         0   1    0            1  \n",
       "4     2         1   1    0            2  \n",
       "\n",
       "[5 rows x 30 columns]"
      ]
     },
     "execution_count": 10,
     "metadata": {},
     "output_type": "execute_result"
    }
   ],
   "source": [
    "df.head()"
   ]
  },
  {
   "cell_type": "code",
   "execution_count": 11,
   "metadata": {},
   "outputs": [],
   "source": [
    "#feature engineering (mengambil atribut yang ingin digunakan)\n",
    "X = df[['inggrisa', 'alproa', 'aljabarlinear', 'fisikadasar', 'kalkulusa', 'aptia', 'inggrisb',\n",
    "        'alprob', 'kalkulusb', 'aptib', 'statistika', 'pemdas', 'pemdasprak', 'pemweb', 'pemwebprak', \n",
    "        'pbo','pboprak','sbd','sd', 'sdprak','sbdprak','jarkom','jarkomprak','matdis','mpa','sbdl','sbdlprak','sc','tbo']]\n"
   ]
  },
  {
   "cell_type": "code",
   "execution_count": 12,
   "metadata": {},
   "outputs": [],
   "source": [
    "#memisahkan Feature dengan class\n",
    "y=df.konsentrasi\n"
   ]
  },
  {
   "cell_type": "code",
   "execution_count": 13,
   "metadata": {},
   "outputs": [],
   "source": [
    "# membagi dari total data menjadi 70% data Latih dan 30% data Uji \n",
    "X_train, X_test, y_train, y_test = train_test_split(X, y, test_size=0.30)"
   ]
  },
  {
   "cell_type": "code",
   "execution_count": 14,
   "metadata": {},
   "outputs": [],
   "source": [
    "# #mengeksport data yang telah di pisahkan\n",
    "# X_train.to_csv('Data_Latih_Fitur.csv',index=False)\n",
    "# y_train.to_csv('Data_Latih_Target.csv',index=False)\n",
    "# X_test.to_csv('Data_Testing_Fitur.csv',index=False)\n",
    "# y_test.to_csv('Data_Testing_Target.csv',index=False)"
   ]
  },
  {
   "cell_type": "code",
   "execution_count": 15,
   "metadata": {},
   "outputs": [],
   "source": [
    "#mencaritahu proporsi unik di kolom atribut\n",
    "# df.konsentrasi.value_counts()"
   ]
  },
  {
   "cell_type": "code",
   "execution_count": 16,
   "metadata": {},
   "outputs": [
    {
     "name": "stdout",
     "output_type": "stream",
     "text": [
      "SVC(C=0.1, break_ties=False, cache_size=200, class_weight=None, coef0=0.0,\n",
      "    decision_function_shape='ovr', degree=3, gamma='scale', kernel='linear',\n",
      "    max_iter=-1, probability=True, random_state=None, shrinking=True, tol=0.001,\n",
      "    verbose=True)\n"
     ]
    }
   ],
   "source": [
    "#mendefinisikan model svm\n",
    "clf = svm.SVC(kernel='linear', C=0.1, probability=True, verbose=True)\n",
    "print(clf)\n"
   ]
  },
  {
   "cell_type": "code",
   "execution_count": 17,
   "metadata": {},
   "outputs": [
    {
     "name": "stdout",
     "output_type": "stream",
     "text": [
      "[LibSVM]w =  [[-0.30220869  0.22674671  0.40408515  0.40632944  0.34755471 -0.18129996\n",
      "   0.00312092  0.21052435 -0.22051736 -0.14634339 -0.13319735  0.15220025\n",
      "  -0.17904101  0.14888172  0.30179768  0.07537115 -0.19262949  0.23229954\n",
      "  -0.18321442  0.09863807  0.29577878 -0.070627   -0.20147696  0.28465358\n",
      "   0.27691675  0.12543497  0.08265738 -0.27607173 -0.03382639]\n",
      " [-0.06302404  0.1371047   0.28985539  0.05581488  0.03441627 -0.02064359\n",
      "  -0.08966752  0.04851748  0.33724274 -0.37112463 -0.0179041   0.10294037\n",
      "   0.04467038  0.10842511  0.20107512 -0.3524653   0.16020436  0.04641326\n",
      "  -0.70631343 -0.11471004  0.14186915  0.1462392  -0.04473954  0.30932027\n",
      "  -0.00984644  0.00209718 -0.28403325  0.01742739 -0.10895543]\n",
      " [ 0.20137886 -0.05429589 -0.10341671 -0.09802688  0.13493705 -0.11085843\n",
      "  -0.1362228   0.06659512  0.02472068 -0.44130945  0.10570259  0.10447441\n",
      "   0.04855231  0.02317481 -0.10671315 -0.40227226  0.26989693  0.06594635\n",
      "  -0.24719268 -0.30935239 -0.22876091  0.25994845  0.16506034  0.04880425\n",
      "  -0.30974569 -0.14982375 -0.2885082   0.32525653 -0.02503504]]\n",
      "b =  [-1.61656772  0.88811718  1.39144396]\n",
      "True\n"
     ]
    }
   ],
   "source": [
    "clf = clf.fit(X_train, y_train)\n",
    "print('w = ', clf.coef_)\n",
    "print('b = ', clf.intercept_)\n",
    "# print('c = ', clf.verbose)\n",
    "print(clf.verbose)\n",
    "# print('c = ', clf.coef_[1])\n",
    "# print('c = ', clf._dense_fit)\n",
    "\n",
    "# print('Indices of support vectors = ', clf.support_)\n",
    "# print('Support vectors = ', clf.support_vectors_)\n",
    "# print('Number of support vectors for each class = ', clf.n_support_)\n",
    "# print('Coefficients of the support vector in the decision function = ',\n",
    "      #np.abs(clf.dual_coef_))\n",
    "# clf = clf.fit(X_train, y_train)\n",
    "# scores = cross_val_score(clf, X_train, y_train, cv=20)\n",
    "# scores\n",
    "\n"
   ]
  },
  {
   "cell_type": "code",
   "execution_count": 42,
   "metadata": {},
   "outputs": [
    {
     "name": "stdout",
     "output_type": "stream",
     "text": [
      "[1 0 0 0 0 0 0 0 1 0 1 0 1 1 0 0 1 0 2 1 0 2 1 1 0 1 0 0 1 0 0 0 0 2 0 1 0\n",
      " 0 0 0 1 1 1 0 0 0 1 2 1 0 0 0 1 1 1 2 0 1 0 1 1 0 1 1 0 0 1 0 2 0 0 0 0 0\n",
      " 0 2 0 1 1 0 0 1 1 1 0 2 0 1 2 2 0 0 1 0 1 0 1 0 0 1 1 0 1 1 1]\n"
     ]
    }
   ],
   "source": [
    "print(clf.predict(X_train))"
   ]
  },
  {
   "cell_type": "code",
   "execution_count": 18,
   "metadata": {},
   "outputs": [],
   "source": [
    "# clf = clf.decision_function(X_train)\n",
    "# print(clf)\n"
   ]
  },
  {
   "cell_type": "code",
   "execution_count": 19,
   "metadata": {},
   "outputs": [],
   "source": [
    "# #melakukan training model\n",
    "# from sklearn.model_selection import cross_val_score\n",
    "# clf = clf.fit(X_train, y_train)\n",
    "# scores = cross_val_score(clf, X_train, y_train, cv=20)\n",
    "# scores\n"
   ]
  },
  {
   "cell_type": "code",
   "execution_count": 20,
   "metadata": {},
   "outputs": [],
   "source": [
    "# prediksi = clf.predict(X_train)\n",
    "# print('Label Sebenarnya = ', y_train)\n",
    "# print('Hasil Prediksi = ', prediksi)\n",
    "\n"
   ]
  },
  {
   "cell_type": "code",
   "execution_count": 21,
   "metadata": {},
   "outputs": [],
   "source": [
    "# def predict(self, X):\n",
    "   \n",
    "#         X = self._validate_for_predict(X)\n",
    "#         predict = self._sparse_predict if self._sparse else self._dense_predict\n",
    "#         return predict(X)"
   ]
  },
  {
   "cell_type": "code",
   "execution_count": 22,
   "metadata": {},
   "outputs": [
    {
     "data": {
      "text/html": [
       "<div>\n",
       "<style scoped>\n",
       "    .dataframe tbody tr th:only-of-type {\n",
       "        vertical-align: middle;\n",
       "    }\n",
       "\n",
       "    .dataframe tbody tr th {\n",
       "        vertical-align: top;\n",
       "    }\n",
       "\n",
       "    .dataframe thead th {\n",
       "        text-align: right;\n",
       "    }\n",
       "</style>\n",
       "<table border=\"1\" class=\"dataframe\">\n",
       "  <thead>\n",
       "    <tr style=\"text-align: right;\">\n",
       "      <th></th>\n",
       "      <th>inggrisa</th>\n",
       "      <th>alproa</th>\n",
       "      <th>aljabarlinear</th>\n",
       "      <th>fisikadasar</th>\n",
       "      <th>kalkulusa</th>\n",
       "      <th>aptia</th>\n",
       "      <th>inggrisb</th>\n",
       "      <th>alprob</th>\n",
       "      <th>kalkulusb</th>\n",
       "      <th>aptib</th>\n",
       "      <th>...</th>\n",
       "      <th>sdprak</th>\n",
       "      <th>sbdprak</th>\n",
       "      <th>jarkom</th>\n",
       "      <th>jarkomprak</th>\n",
       "      <th>matdis</th>\n",
       "      <th>mpa</th>\n",
       "      <th>sbdl</th>\n",
       "      <th>sbdlprak</th>\n",
       "      <th>sc</th>\n",
       "      <th>tbo</th>\n",
       "    </tr>\n",
       "  </thead>\n",
       "  <tbody>\n",
       "    <tr>\n",
       "      <th>115</th>\n",
       "      <td>2</td>\n",
       "      <td>2</td>\n",
       "      <td>1</td>\n",
       "      <td>1</td>\n",
       "      <td>2</td>\n",
       "      <td>2</td>\n",
       "      <td>1</td>\n",
       "      <td>2</td>\n",
       "      <td>2</td>\n",
       "      <td>3</td>\n",
       "      <td>...</td>\n",
       "      <td>0</td>\n",
       "      <td>1</td>\n",
       "      <td>1</td>\n",
       "      <td>2</td>\n",
       "      <td>1</td>\n",
       "      <td>1</td>\n",
       "      <td>1</td>\n",
       "      <td>0</td>\n",
       "      <td>1</td>\n",
       "      <td>1</td>\n",
       "    </tr>\n",
       "    <tr>\n",
       "      <th>106</th>\n",
       "      <td>2</td>\n",
       "      <td>0</td>\n",
       "      <td>0</td>\n",
       "      <td>1</td>\n",
       "      <td>2</td>\n",
       "      <td>1</td>\n",
       "      <td>2</td>\n",
       "      <td>0</td>\n",
       "      <td>2</td>\n",
       "      <td>0</td>\n",
       "      <td>...</td>\n",
       "      <td>1</td>\n",
       "      <td>2</td>\n",
       "      <td>3</td>\n",
       "      <td>2</td>\n",
       "      <td>1</td>\n",
       "      <td>2</td>\n",
       "      <td>1</td>\n",
       "      <td>1</td>\n",
       "      <td>1</td>\n",
       "      <td>2</td>\n",
       "    </tr>\n",
       "    <tr>\n",
       "      <th>59</th>\n",
       "      <td>1</td>\n",
       "      <td>0</td>\n",
       "      <td>0</td>\n",
       "      <td>0</td>\n",
       "      <td>1</td>\n",
       "      <td>0</td>\n",
       "      <td>1</td>\n",
       "      <td>2</td>\n",
       "      <td>0</td>\n",
       "      <td>1</td>\n",
       "      <td>...</td>\n",
       "      <td>0</td>\n",
       "      <td>2</td>\n",
       "      <td>0</td>\n",
       "      <td>0</td>\n",
       "      <td>0</td>\n",
       "      <td>1</td>\n",
       "      <td>0</td>\n",
       "      <td>1</td>\n",
       "      <td>1</td>\n",
       "      <td>2</td>\n",
       "    </tr>\n",
       "    <tr>\n",
       "      <th>27</th>\n",
       "      <td>2</td>\n",
       "      <td>2</td>\n",
       "      <td>2</td>\n",
       "      <td>2</td>\n",
       "      <td>3</td>\n",
       "      <td>3</td>\n",
       "      <td>1</td>\n",
       "      <td>2</td>\n",
       "      <td>3</td>\n",
       "      <td>1</td>\n",
       "      <td>...</td>\n",
       "      <td>3</td>\n",
       "      <td>3</td>\n",
       "      <td>4</td>\n",
       "      <td>2</td>\n",
       "      <td>1</td>\n",
       "      <td>4</td>\n",
       "      <td>2</td>\n",
       "      <td>3</td>\n",
       "      <td>2</td>\n",
       "      <td>2</td>\n",
       "    </tr>\n",
       "    <tr>\n",
       "      <th>41</th>\n",
       "      <td>1</td>\n",
       "      <td>1</td>\n",
       "      <td>0</td>\n",
       "      <td>1</td>\n",
       "      <td>2</td>\n",
       "      <td>1</td>\n",
       "      <td>0</td>\n",
       "      <td>1</td>\n",
       "      <td>2</td>\n",
       "      <td>0</td>\n",
       "      <td>...</td>\n",
       "      <td>0</td>\n",
       "      <td>1</td>\n",
       "      <td>0</td>\n",
       "      <td>0</td>\n",
       "      <td>1</td>\n",
       "      <td>0</td>\n",
       "      <td>0</td>\n",
       "      <td>0</td>\n",
       "      <td>1</td>\n",
       "      <td>1</td>\n",
       "    </tr>\n",
       "  </tbody>\n",
       "</table>\n",
       "<p>5 rows × 29 columns</p>\n",
       "</div>"
      ],
      "text/plain": [
       "     inggrisa  alproa  aljabarlinear  fisikadasar  kalkulusa  aptia  inggrisb  \\\n",
       "115         2       2              1            1          2      2         1   \n",
       "106         2       0              0            1          2      1         2   \n",
       "59          1       0              0            0          1      0         1   \n",
       "27          2       2              2            2          3      3         1   \n",
       "41          1       1              0            1          2      1         0   \n",
       "\n",
       "     alprob  kalkulusb  aptib  ...  sdprak  sbdprak  jarkom  jarkomprak  \\\n",
       "115       2          2      3  ...       0        1       1           2   \n",
       "106       0          2      0  ...       1        2       3           2   \n",
       "59        2          0      1  ...       0        2       0           0   \n",
       "27        2          3      1  ...       3        3       4           2   \n",
       "41        1          2      0  ...       0        1       0           0   \n",
       "\n",
       "     matdis  mpa  sbdl  sbdlprak  sc  tbo  \n",
       "115       1    1     1         0   1    1  \n",
       "106       1    2     1         1   1    2  \n",
       "59        0    1     0         1   1    2  \n",
       "27        1    4     2         3   2    2  \n",
       "41        1    0     0         0   1    1  \n",
       "\n",
       "[5 rows x 29 columns]"
      ]
     },
     "execution_count": 22,
     "metadata": {},
     "output_type": "execute_result"
    }
   ],
   "source": [
    "X_test.head()\n"
   ]
  },
  {
   "cell_type": "code",
   "execution_count": 23,
   "metadata": {},
   "outputs": [
    {
     "data": {
      "text/plain": [
       "115    0\n",
       "106    0\n",
       "59     1\n",
       "27     0\n",
       "41     0\n",
       "Name: konsentrasi, dtype: int64"
      ]
     },
     "execution_count": 23,
     "metadata": {},
     "output_type": "execute_result"
    }
   ],
   "source": [
    "y_test.head()"
   ]
  },
  {
   "cell_type": "code",
   "execution_count": 24,
   "metadata": {},
   "outputs": [
    {
     "name": "stdout",
     "output_type": "stream",
     "text": [
      "Label Sebenarnya =  3      1\n",
      "87     2\n",
      "88     0\n",
      "38     2\n",
      "62     1\n",
      "      ..\n",
      "0      0\n",
      "126    0\n",
      "34     1\n",
      "140    1\n",
      "118    1\n",
      "Name: konsentrasi, Length: 105, dtype: int64\n",
      "Hasil Prediksi =  [1 0 0 0 0 0 0 0 1 0 1 0 1 1 0 0 1 0 2 1 0 2 1 1 0 1 0 0 1 0 0 0 0 2 0 1 0\n",
      " 0 0 0 1 1 1 0 0 0 1 2 1 0 0 0 1 1 1 2 0 1 0 1 1 0 1 1 0 0 1 0 2 0 0 0 0 0\n",
      " 0 2 0 1 1 0 0 1 1 1 0 2 0 1 2 2 0 0 1 0 1 0 1 0 0 1 1 0 1 1 1]\n",
      "[[0.33481617 0.43304118 0.23214265]\n",
      " [0.42310729 0.29215056 0.28474215]\n",
      " [0.6595428  0.1521405  0.1883167 ]\n",
      " [0.38979218 0.2499956  0.36021222]\n",
      " [0.55738814 0.32709298 0.11551888]\n",
      " [0.55115531 0.23789319 0.21095151]\n",
      " [0.54946296 0.20676099 0.24377606]\n",
      " [0.51083886 0.33465476 0.15450638]\n",
      " [0.39529567 0.46365021 0.14105412]\n",
      " [0.57249242 0.18417698 0.24333061]\n",
      " [0.36210099 0.50797148 0.12992753]\n",
      " [0.42711034 0.32031512 0.25257454]\n",
      " [0.38341524 0.37501674 0.24156802]\n",
      " [0.38185698 0.4251037  0.19303932]\n",
      " [0.60118879 0.19308084 0.20573038]\n",
      " [0.50465244 0.20309955 0.29224801]\n",
      " [0.36764936 0.46063061 0.17172003]\n",
      " [0.54547353 0.2360156  0.21851087]\n",
      " [0.3461817  0.09890608 0.55491222]\n",
      " [0.32866018 0.474164   0.19717583]\n",
      " [0.47982396 0.29060084 0.2295752 ]\n",
      " [0.34439692 0.270372   0.38523108]\n",
      " [0.32512025 0.47833246 0.19654729]\n",
      " [0.33978596 0.49319283 0.16702121]\n",
      " [0.5850956  0.25916969 0.15573472]\n",
      " [0.33435484 0.50955568 0.15608947]\n",
      " [0.60630102 0.17985867 0.21384031]\n",
      " [0.60654833 0.1675496  0.22590207]\n",
      " [0.4119107  0.45235486 0.13573444]\n",
      " [0.35707833 0.35588131 0.28704035]\n",
      " [0.44541381 0.35322932 0.20135687]\n",
      " [0.68365235 0.14811162 0.16823603]\n",
      " [0.47919537 0.31510101 0.20570362]\n",
      " [0.32442009 0.32693068 0.34864923]\n",
      " [0.52555656 0.19200426 0.28243919]\n",
      " [0.33474807 0.54290848 0.12234345]\n",
      " [0.40859496 0.35013974 0.2412653 ]\n",
      " [0.60748893 0.32425583 0.06825523]\n",
      " [0.5508339  0.30020528 0.14896082]\n",
      " [0.52834847 0.28604733 0.1856042 ]\n",
      " [0.34089819 0.4935876  0.16551421]\n",
      " [0.37608281 0.52647336 0.09744383]\n",
      " [0.22680323 0.46728726 0.30590951]\n",
      " [0.52552809 0.25412729 0.22034463]\n",
      " [0.55795191 0.17808352 0.26396457]\n",
      " [0.60523241 0.14500777 0.24975982]\n",
      " [0.32610154 0.45220477 0.22169369]\n",
      " [0.23161907 0.3247607  0.44362023]\n",
      " [0.35581113 0.47243251 0.17175636]\n",
      " [0.5275136  0.24009874 0.23238766]\n",
      " [0.53792626 0.28000473 0.18206901]\n",
      " [0.61053738 0.27804204 0.11142058]\n",
      " [0.29806584 0.38648174 0.31545242]\n",
      " [0.29222715 0.41134159 0.29643126]\n",
      " [0.23821657 0.63186338 0.12992005]\n",
      " [0.38574899 0.14212982 0.47212119]\n",
      " [0.50589843 0.20350782 0.29059375]\n",
      " [0.31341147 0.51667104 0.16991749]\n",
      " [0.5778579  0.30638881 0.11575328]\n",
      " [0.30173782 0.54938826 0.14887392]\n",
      " [0.3130516  0.53895583 0.14799257]\n",
      " [0.48823286 0.33280562 0.17896152]\n",
      " [0.21337886 0.68517493 0.10144621]\n",
      " [0.43011595 0.42499747 0.14488658]\n",
      " [0.67049648 0.06363366 0.26586986]\n",
      " [0.59229053 0.23698532 0.17072416]\n",
      " [0.4288437  0.39685036 0.17430595]\n",
      " [0.45713086 0.28347757 0.25939157]\n",
      " [0.32920338 0.22673583 0.44406079]\n",
      " [0.50528388 0.35346738 0.14124875]\n",
      " [0.52525084 0.26000786 0.2147413 ]\n",
      " [0.51817872 0.29266516 0.18915612]\n",
      " [0.49036618 0.31280911 0.19682471]\n",
      " [0.59224536 0.18909369 0.21866095]\n",
      " [0.45749567 0.31161997 0.23088437]\n",
      " [0.20382967 0.31547244 0.48069789]\n",
      " [0.53251535 0.26987854 0.19760611]\n",
      " [0.3318395  0.50770166 0.16045884]\n",
      " [0.3178863  0.52843796 0.15367575]\n",
      " [0.54264043 0.26843509 0.18892447]\n",
      " [0.47784166 0.30445597 0.21770237]\n",
      " [0.39241585 0.41249717 0.19508698]\n",
      " [0.33942132 0.51213198 0.1484467 ]\n",
      " [0.26931597 0.57537401 0.15531002]\n",
      " [0.61073697 0.18572648 0.20353655]\n",
      " [0.39961615 0.28976326 0.31062058]\n",
      " [0.60471815 0.16675782 0.22852403]\n",
      " [0.2781327  0.55869481 0.1631725 ]\n",
      " [0.33567274 0.10050044 0.56382682]\n",
      " [0.40072737 0.15080758 0.44846505]\n",
      " [0.41201002 0.32572382 0.26226617]\n",
      " [0.39377025 0.35426357 0.25196618]\n",
      " [0.31489937 0.5209022  0.16419843]\n",
      " [0.42961784 0.36552943 0.20485273]\n",
      " [0.37171225 0.40280621 0.22548153]\n",
      " [0.67014458 0.2201262  0.10972922]\n",
      " [0.33469514 0.47121297 0.19409189]\n",
      " [0.52092205 0.26640045 0.2126775 ]\n",
      " [0.55732931 0.26651402 0.17615667]\n",
      " [0.32584664 0.48187101 0.19228235]\n",
      " [0.44953435 0.3983415  0.15212414]\n",
      " [0.58389226 0.29701803 0.11908971]\n",
      " [0.27832577 0.56050015 0.16117408]\n",
      " [0.40102404 0.44937973 0.14959623]\n",
      " [0.29957582 0.57338282 0.12704137]]\n"
     ]
    }
   ],
   "source": [
    "# prediksi data uji\n",
    "hasilPrediksi = clf.predict(X_train)\n",
    "print('Label Sebenarnya = ', y_train)\n",
    "print('Hasil Prediksi = ', hasilPrediksi)\n",
    "print(clf.predict_proba(X_train))\n",
    "\n",
    "\n",
    "\n"
   ]
  },
  {
   "cell_type": "code",
   "execution_count": 25,
   "metadata": {},
   "outputs": [
    {
     "data": {
      "image/png": "[encoded data removed]",
      "text/plain": [
       "<Figure size 360x288 with 2 Axes>"
      ]
     },
     "metadata": {
      "needs_background": "light"
     },
     "output_type": "display_data"
    },
    {
     "name": "stdout",
     "output_type": "stream",
     "text": [
      "              precision    recall  f1-score   support\n",
      "\n",
      "         WEM       0.75      0.87      0.80        47\n",
      "         SCR       0.72      0.83      0.77        35\n",
      "         KKO       1.00      0.43      0.61        23\n",
      "\n",
      "    accuracy                           0.76       105\n",
      "   macro avg       0.82      0.71      0.73       105\n",
      "weighted avg       0.79      0.76      0.75       105\n",
      "\n"
     ]
    }
   ],
   "source": [
    "cm = confusion_matrix(y_train, hasilPrediksi)\n",
    "cm_df = pd.DataFrame(cm,\n",
    "                     index = ['WEM','SCR','KKO'],\n",
    "                     columns = ['WEM','SCR','KKO'])\n",
    "plt.figure(figsize=(5, 4))\n",
    "sns.heatmap(cm_df, annot=True, fmt='d')\n",
    "plt.title('Confusion Matrix SVN')\n",
    "plt.ylabel('Actual Values')\n",
    "plt.xlabel('Predicted Values')\n",
    "plt.show()\n",
    "target = ['WEM', 'SCR', 'KKO']\n",
    "print(classification_report(y_train, hasilPrediksi, target_names=target))\n"
   ]
  },
  {
   "cell_type": "code",
   "execution_count": 26,
   "metadata": {},
   "outputs": [
    {
     "name": "stdout",
     "output_type": "stream",
     "text": [
      "[[0.30779576 0.46642756 0.22577668]\n",
      " [0.42447638 0.41567659 0.15984703]\n",
      " [0.28352398 0.4443974  0.27207862]\n",
      " [0.50684884 0.14712923 0.34602193]\n",
      " [0.39259255 0.50027201 0.10713544]\n",
      " [0.39315376 0.43549301 0.17135323]\n",
      " [0.34546708 0.5392739  0.11525902]\n",
      " [0.61858062 0.29726845 0.08415093]\n",
      " [0.28963889 0.48995492 0.22040619]\n",
      " [0.25980765 0.4438494  0.29634294]\n",
      " [0.42713319 0.15728372 0.41558309]\n",
      " [0.25609087 0.60939739 0.13451174]\n",
      " [0.35377105 0.486267   0.15996196]\n",
      " [0.22027776 0.41883481 0.36088743]\n",
      " [0.33518146 0.53421761 0.13060093]\n",
      " [0.3269951  0.39248668 0.28051822]\n",
      " [0.55917073 0.32670428 0.11412499]\n",
      " [0.40162381 0.44540156 0.15297463]\n",
      " [0.77904197 0.072708   0.14825003]\n",
      " [0.3701531  0.31181915 0.31802774]\n",
      " [0.39151079 0.48796823 0.12052098]\n",
      " [0.52149089 0.35815774 0.12035137]\n",
      " [0.31022591 0.35743345 0.33234064]\n",
      " [0.6227104  0.1424723  0.2348173 ]\n",
      " [0.40166679 0.4277103  0.17062292]\n",
      " [0.37167101 0.2681622  0.36016679]\n",
      " [0.28526888 0.50809297 0.20663815]\n",
      " [0.28261002 0.48942425 0.22796572]\n",
      " [0.43354389 0.36403814 0.20241798]\n",
      " [0.44711179 0.30450738 0.24838083]\n",
      " [0.57429984 0.19462962 0.23107054]\n",
      " [0.21912947 0.63448585 0.14638468]\n",
      " [0.34617954 0.46143292 0.19238754]\n",
      " [0.48911273 0.40308533 0.10780194]\n",
      " [0.34325034 0.11357287 0.5431768 ]\n",
      " [0.28957052 0.32854463 0.38188485]\n",
      " [0.33764426 0.31834347 0.34401226]\n",
      " [0.33615333 0.30924983 0.35459684]\n",
      " [0.60115386 0.24285687 0.15598927]\n",
      " [0.46150813 0.27916563 0.25932624]\n",
      " [0.27018581 0.3456068  0.3842074 ]\n",
      " [0.43193026 0.29929585 0.26877389]\n",
      " [0.28191386 0.57426475 0.1438214 ]\n",
      " [0.2724641  0.4533316  0.2742043 ]\n",
      " [0.29248424 0.58644411 0.12107165]\n",
      " [0.58520703 0.30111434 0.11367863]]\n"
     ]
    }
   ],
   "source": [
    "proba = clf.predict_proba(X_test)\n",
    "print(proba)\n"
   ]
  },
  {
   "cell_type": "code",
   "execution_count": 27,
   "metadata": {},
   "outputs": [
    {
     "data": {
      "text/html": [
       "<div>\n",
       "<style scoped>\n",
       "    .dataframe tbody tr th:only-of-type {\n",
       "        vertical-align: middle;\n",
       "    }\n",
       "\n",
       "    .dataframe tbody tr th {\n",
       "        vertical-align: top;\n",
       "    }\n",
       "\n",
       "    .dataframe thead th {\n",
       "        text-align: right;\n",
       "    }\n",
       "</style>\n",
       "<table border=\"1\" class=\"dataframe\">\n",
       "  <thead>\n",
       "    <tr style=\"text-align: right;\">\n",
       "      <th></th>\n",
       "      <th>Predicted</th>\n",
       "    </tr>\n",
       "  </thead>\n",
       "  <tbody>\n",
       "    <tr>\n",
       "      <th>0</th>\n",
       "      <td>1</td>\n",
       "    </tr>\n",
       "    <tr>\n",
       "      <th>1</th>\n",
       "      <td>0</td>\n",
       "    </tr>\n",
       "    <tr>\n",
       "      <th>2</th>\n",
       "      <td>0</td>\n",
       "    </tr>\n",
       "    <tr>\n",
       "      <th>3</th>\n",
       "      <td>0</td>\n",
       "    </tr>\n",
       "    <tr>\n",
       "      <th>4</th>\n",
       "      <td>0</td>\n",
       "    </tr>\n",
       "  </tbody>\n",
       "</table>\n",
       "</div>"
      ],
      "text/plain": [
       "   Predicted\n",
       "0          1\n",
       "1          0\n",
       "2          0\n",
       "3          0\n",
       "4          0"
      ]
     },
     "execution_count": 27,
     "metadata": {},
     "output_type": "execute_result"
    }
   ],
   "source": [
    "#membuat hasil prediksi dari array menjadi dataFrame\n",
    "hasil = pd.DataFrame(hasilPrediksi, columns = ['Predicted'])\n",
    "hasil.head()"
   ]
  },
  {
   "cell_type": "code",
   "execution_count": 28,
   "metadata": {},
   "outputs": [],
   "source": [
    "#eksport hasil prediksi\n",
    "#hasil.to_csv('Data_Hasil.csv',index=False)\n",
    "#y_test.to_csv('Data_Target.csv',index=False)"
   ]
  },
  {
   "cell_type": "code",
   "execution_count": 29,
   "metadata": {},
   "outputs": [
    {
     "name": "stdout",
     "output_type": "stream",
     "text": [
      "Label Sebenarnya =  115    0\n",
      "106    0\n",
      "59     1\n",
      "27     0\n",
      "41     0\n",
      "9      0\n",
      "97     1\n",
      "71     1\n",
      "47     1\n",
      "114    2\n",
      "91     2\n",
      "84     1\n",
      "15     0\n",
      "94     1\n",
      "46     2\n",
      "5      1\n",
      "136    1\n",
      "31     0\n",
      "148    0\n",
      "24     0\n",
      "77     1\n",
      "42     0\n",
      "147    1\n",
      "78     2\n",
      "57     0\n",
      "21     0\n",
      "49     2\n",
      "75     1\n",
      "143    0\n",
      "66     2\n",
      "117    0\n",
      "142    1\n",
      "6      0\n",
      "133    0\n",
      "112    2\n",
      "122    2\n",
      "67     0\n",
      "7      2\n",
      "53     0\n",
      "109    2\n",
      "90     0\n",
      "128    1\n",
      "35     2\n",
      "105    1\n",
      "43     0\n",
      "141    2\n",
      "Name: konsentrasi, dtype: int64\n",
      "Hasil Prediksi =  [1 1 1 0 1 1 1 0 1 1 2 1 1 2 1 0 0 1 0 2 1 0 2 0 1 2 1 1 1 0 0 1 1 0 2 2 2\n",
      " 2 0 0 2 0 1 1 1 0]\n"
     ]
    }
   ],
   "source": [
    "hasilPrediksi = clf.predict(X_test)\n",
    "print('Label Sebenarnya = ', y_test)\n",
    "print('Hasil Prediksi = ', hasilPrediksi)\n"
   ]
  },
  {
   "cell_type": "code",
   "execution_count": 30,
   "metadata": {},
   "outputs": [],
   "source": [
    "#membuat confusion matrix\n",
    "cm = confusion_matrix(y_test, hasilPrediksi)"
   ]
  },
  {
   "cell_type": "code",
   "execution_count": 31,
   "metadata": {},
   "outputs": [],
   "source": [
    "#mendefinisikan index confusion matrix\n",
    "cm_df = pd.DataFrame(cm,\n",
    "                     index = ['WEM','SCR','KKO'],\n",
    "                     columns = ['WEM','SCR','KKO'])"
   ]
  },
  {
   "cell_type": "code",
   "execution_count": 32,
   "metadata": {},
   "outputs": [
    {
     "data": {
      "image/png": "[encoded data removed]",
      "text/plain": [
       "<Figure size 360x288 with 2 Axes>"
      ]
     },
     "metadata": {
      "needs_background": "light"
     },
     "output_type": "display_data"
    }
   ],
   "source": [
    "#Plotting the confusion matrix\n",
    "plt.figure(figsize=(5,4))\n",
    "sns.heatmap(cm_df, annot=True, fmt='d')\n",
    "plt.title('Confusion Matrix SVN')\n",
    "plt.ylabel('Actual Values')\n",
    "plt.xlabel('Predicted Values')\n",
    "plt.show()"
   ]
  },
  {
   "cell_type": "code",
   "execution_count": 33,
   "metadata": {},
   "outputs": [
    {
     "name": "stdout",
     "output_type": "stream",
     "text": [
      "     WEM  SCR  KKO\n",
      "WEM    6   10    4\n",
      "SCR    4    8    2\n",
      "KKO    4    4    4\n"
     ]
    }
   ],
   "source": [
    "print(cm_df)\n"
   ]
  },
  {
   "cell_type": "code",
   "execution_count": 34,
   "metadata": {},
   "outputs": [
    {
     "name": "stdout",
     "output_type": "stream",
     "text": [
      "              precision    recall  f1-score   support\n",
      "\n",
      "         WEM       0.43      0.30      0.35        20\n",
      "         SCR       0.36      0.57      0.44        14\n",
      "         KKO       0.40      0.33      0.36        12\n",
      "\n",
      "    accuracy                           0.39        46\n",
      "   macro avg       0.40      0.40      0.39        46\n",
      "weighted avg       0.40      0.39      0.38        46\n",
      "\n"
     ]
    }
   ],
   "source": [
    "#model report\n",
    "target = ['WEM', 'SCR', 'KKO']\n",
    "print(classification_report(y_test, hasilPrediksi, target_names=target))\n"
   ]
  },
  {
   "cell_type": "code",
   "execution_count": 35,
   "metadata": {},
   "outputs": [
    {
     "name": "stdout",
     "output_type": "stream",
     "text": [
      "[LibSVM][LibSVM][LibSVM][LibSVM][LibSVM]"
     ]
    },
    {
     "data": {
      "text/plain": [
       "array([0.3       , 0.66666667, 0.44444444, 0.44444444, 0.11111111])"
      ]
     },
     "execution_count": 35,
     "metadata": {},
     "output_type": "execute_result"
    }
   ],
   "source": [
    "from sklearn.model_selection import cross_val_score\n",
    "scores = cross_val_score(clf, X_test, y_test, cv=5)\n",
    "scores\n"
   ]
  },
  {
   "cell_type": "code",
   "execution_count": 36,
   "metadata": {},
   "outputs": [
    {
     "name": "stdout",
     "output_type": "stream",
     "text": [
      "<function cross_val_score at 0x000001129087F0D8>\n"
     ]
    }
   ],
   "source": [
    "print(cross_val_score)"
   ]
  },
  {
   "cell_type": "code",
   "execution_count": 37,
   "metadata": {},
   "outputs": [
    {
     "data": {
      "text/plain": [
       "0.676791101055807"
      ]
     },
     "execution_count": 37,
     "metadata": {},
     "output_type": "execute_result"
    }
   ],
   "source": [
    "# from sklearn.metrics import roc_auc_score\n",
    "\n",
    "roc_auc_score(y_test,proba,multi_class='ovr')\n"
   ]
  },
  {
   "cell_type": "code",
   "execution_count": 38,
   "metadata": {},
   "outputs": [
    {
     "data": {
      "image/png": "[encoded data removed]",
      "text/plain": [
       "<Figure size 432x288 with 1 Axes>"
      ]
     },
     "metadata": {
      "needs_background": "light"
     },
     "output_type": "display_data"
    }
   ],
   "source": [
    "# roc curve for classes\n",
    "fpr = {}\n",
    "tpr = {}\n",
    "thresh = {}\n",
    "\n",
    "n_class = 3\n",
    "\n",
    "for i in range(n_class):\n",
    "    fpr[i], tpr[i], thresh[i] = roc_curve(\n",
    "        y_test, proba[:, i], pos_label=i)\n",
    "\n",
    "# plotting\n",
    "plt.plot(fpr[0], tpr[0], linestyle='--',\n",
    "         color='orange', label='Class 0 vs Rest')\n",
    "plt.plot(fpr[1], tpr[1], linestyle='--',\n",
    "         color='green', label='Class 1 vs Rest')\n",
    "plt.plot(fpr[2], tpr[2], linestyle='--', color='blue', label='Class 2 vs Rest')\n",
    "plt.title('Multiclass ROC curve')\n",
    "plt.xlabel('False Positive Rate')\n",
    "plt.ylabel('True Positive rate')\n",
    "plt.legend(loc='best')\n",
    "plt.savefig('Multiclass ROC', dpi=300)\n"
   ]
  },
  {
   "cell_type": "code",
   "execution_count": 39,
   "metadata": {},
   "outputs": [
    {
     "ename": "NameError",
     "evalue": "name 'prediksi' is not defined",
     "output_type": "error",
     "traceback": [
      "\u001b[1;31m---------------------------------------------------------------------------\u001b[0m",
      "\u001b[1;31mNameError\u001b[0m                                 Traceback (most recent call last)",
      "\u001b[1;32m<ipython-input-39-6875b28959d4>\u001b[0m in \u001b[0;36m<module>\u001b[1;34m\u001b[0m\n\u001b[0;32m      1\u001b[0m \u001b[1;32mfrom\u001b[0m \u001b[0msklearn\u001b[0m \u001b[1;32mimport\u001b[0m \u001b[0mmetrics\u001b[0m\u001b[1;33m\u001b[0m\u001b[1;33m\u001b[0m\u001b[0m\n\u001b[0;32m      2\u001b[0m \u001b[1;33m\u001b[0m\u001b[0m\n\u001b[1;32m----> 3\u001b[1;33m \u001b[0mprint\u001b[0m\u001b[1;33m(\u001b[0m\u001b[0mmetrics\u001b[0m\u001b[1;33m.\u001b[0m\u001b[0mmean_squared_error\u001b[0m\u001b[1;33m(\u001b[0m\u001b[0my_test\u001b[0m\u001b[1;33m,\u001b[0m\u001b[0mprediksi\u001b[0m\u001b[1;33m)\u001b[0m\u001b[1;33m)\u001b[0m\u001b[1;33m\u001b[0m\u001b[1;33m\u001b[0m\u001b[0m\n\u001b[0m",
      "\u001b[1;31mNameError\u001b[0m: name 'prediksi' is not defined"
     ]
    }
   ],
   "source": [
    "from sklearn import metrics\n",
    "\n",
    "print(metrics.mean_squared_error(y_test,prediksi))"
   ]
  },
  {
   "cell_type": "code",
   "execution_count": null,
   "metadata": {},
   "outputs": [],
   "source": [
    "#membuat data baru\n",
    "baru = [[1, 1, 1, 2, 1, 1, 1, 2, 1, 1, 2, 1, 0, 0,\n",
    "         3, 1, 3, 1, 2, 0, 2, 0, 1, 1, 2, 0, 0, 2, 4]]\n"
   ]
  },
  {
   "cell_type": "code",
   "execution_count": null,
   "metadata": {},
   "outputs": [],
   "source": [
    "#memprediksi data baru\n",
    "hasilPrediksi = clf.predict(baru)"
   ]
  },
  {
   "cell_type": "code",
   "execution_count": null,
   "metadata": {},
   "outputs": [
    {
     "name": "stdout",
     "output_type": "stream",
     "text": [
      "{'prediction': 'SCR', 'confidence_score': 0.381}\n"
     ]
    }
   ],
   "source": [
    "#hasil data baru\n",
    "# print('Hasil Prediksi = ', hasilPrediksi)\n",
    "# if (hasilPrediksi == 0):\n",
    "#       print('WEM')\n",
    "# if (hasilPrediksi == 1):\n",
    "#       print('SCR')\n",
    "# if (hasilPrediksi == 2):\n",
    "#       print('KKO')\n",
    "prediction = clf.predict(baru)\n",
    "output = int(prediction[0])\n",
    "probas = clf.predict_proba(baru)\n",
    "output_probability = float(probas[:, output].round(3))\n",
    "# output dictionary\n",
    "konsentrasi = {0: \"WEM\", 1: \"SCR\", 2: \"KKO\"}\n",
    "# show results\n",
    "result = {\"prediction\": konsentrasi[output],\n",
    "          \"confidence_score\": output_probability}\n",
    "\n",
    "print(result)\n"
   ]
  },
  {
   "cell_type": "code",
   "execution_count": null,
   "metadata": {},
   "outputs": [],
   "source": [
    "import pickle"
   ]
  },
  {
   "cell_type": "code",
   "execution_count": null,
   "metadata": {},
   "outputs": [],
   "source": [
    "# filename = 'modelsvm5.sav'\n",
    "# pickle.dump(clf, open(filename, 'wb'))"
   ]
  },
  {
   "cell_type": "code",
   "execution_count": null,
   "metadata": {},
   "outputs": [],
   "source": [
    "# #load model yang sudah di simpan\n",
    "# loaded_model = pickle.load(open('model.sav','rb'))\n"
   ]
  },
  {
   "cell_type": "code",
   "execution_count": null,
   "metadata": {},
   "outputs": [],
   "source": [
    "#membuat data baru\n",
    "# baru = [[1, 0, 0, 0, 0, 1, 2, 1, 0, 0, \n",
    "#         0, 0, 0, 0, 1, 0, 0, 1, 0, 0, \n",
    "#         1, 2, 1, 0, 1, 1, 1, 2, 0]]\n",
    "# hasilPrediksi = loaded_model.predict(baru)\n",
    "# if (hasilPrediksi == 0):\n",
    "#     print('WEM')\n",
    "# if (hasilPrediksi == 1):\n",
    "#     print('SCR')\n",
    "# if (hasilPrediksi == 2):\n",
    "#     print('KKO')\n"
   ]
  }
 ],
 "metadata": {
  "kernelspec": {
   "display_name": "Python 3",
   "language": "python",
   "name": "python3"
  },
  "language_info": {
   "codemirror_mode": {
    "name": "ipython",
    "version": 3
   },
   "file_extension": ".py",
   "mimetype": "text/x-python",
   "name": "python",
   "nbconvert_exporter": "python",
   "pygments_lexer": "ipython3",
   "version": "3.7.6"
  }
 },
 "nbformat": 4,
 "nbformat_minor": 4
}
